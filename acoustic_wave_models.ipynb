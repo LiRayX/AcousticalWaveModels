{
 "cells": [
  {
   "cell_type": "code",
   "execution_count": 1,
   "id": "5bf5a3de",
   "metadata": {},
   "outputs": [
    {
     "name": "stderr",
     "output_type": "stream",
     "text": [
      "d:\\Anaconda\\lib\\site-packages\\scipy\\__init__.py:146: UserWarning: A NumPy version >=1.16.5 and <1.23.0 is required for this version of SciPy (detected version 1.26.1\n",
      "  warnings.warn(f\"A NumPy version >={np_minversion} and <{np_maxversion}\"\n"
     ]
    }
   ],
   "source": [
    "import numpy as np\n",
    "import math\n",
    "import matplotlib.pyplot as plt\n",
    "from scipy.special import jn,jnp_zeros"
   ]
  },
  {
   "cell_type": "code",
   "execution_count": 2,
   "id": "af10a9fd",
   "metadata": {},
   "outputs": [],
   "source": [
    "'''\n",
    "Author: LRayX liruixiang@zju.edu.cn\n",
    "Date: 2023-11-22 11:18:48\n",
    "LastEditors: LRayX liruixiang@zju.edu.cn\n",
    "LastEditTime: 2023-11-22 12:50:48\n",
    "FilePath: \\AcousticalWaveModels\\acoustic_wave_models.ipynb\n",
    "Description: This file is about acoustic wave models\n",
    "Copyright (c) 2023 by LRayX liruixiang@zju.edu.cn, All Rights Reserved. \n",
    "'''\n",
    "class Signal:\n",
    "    def __init__(self, _T, _fs, _signal_TD = None):\n",
    "        self.T = _T\n",
    "        self.fs = _fs\n",
    "        self.length = int(self.T*self.fs)\n",
    "        self.time_series = 1/self.fs*np.arange(self.length)\n",
    "        self.signal_TD = _signal_TD\n",
    "\n",
    "    def pulse(self, h = 1.0):\n",
    "        self.signal_TD = h*np.ones(self.length)\n",
    "\n",
    "    def add_zero(self, *args):\n",
    "        num_args = len(args)\n",
    "        if num_args == 0:\n",
    "            _N = 2**math.ceil(math.log(self.length,2))\n",
    "        else:\n",
    "            _N = args[0]\n",
    "        zero_length = _N - self.length\n",
    "        self.length = _N\n",
    "        self.signal_TD = np.append(self.signal_TD,np.zeros(zero_length))\n",
    "        self.time_series = 1/self.fs*np.arange(self.length)\n",
    "\n",
    "\n",
    "\n",
    "class EWM:\n",
    "    def __init__(self, _delta_frequency):\n",
    "    # delta_frequency = fs/N = 1/T\n",
    "        self.delta_frequency = _delta_frequency\n",
    "    \n",
    "    def set_eta(self, m):\n",
    "        self.eta = math.log(10)*m*self.delta_frequency\n",
    "        \n",
    "    def falling_exp_window(self, vector, time_series):\n",
    "        exponential_time_series = np.exp(-self.eta*time_series)\n",
    "        return np.multiply(vector,exponential_time_series)\n",
    "    \n",
    "    def rising_exp_window(self, vector, time_series):\n",
    "        exponential_time_series = np.exp(self.eta*time_series)\n",
    "        return np.multiply(vector,exponential_time_series)\n",
    "    \n",
    "#     def FFT(self, signal_TD):\n",
    "#         signal_FD = np.fft.fft(signal_TD)\n",
    "#         return signal_FD\n",
    "    \n",
    "#     def IFFT(self, signal_FD):\n",
    "#         signal_TD = np.fft.ifft(signal_FD)\n",
    "#         return signal_TD\n",
    "    \n",
    "    \n",
    "class SimplifiedModel:\n",
    "    def __init__(self, _T, _radius, _c, _rho, _strength, _num_terms, _num_modes = 0,  _distance_off_center = 0):\n",
    "        self.T = _T\n",
    "        self.radius = _radius\n",
    "        # c denote speed of sound in fluid\n",
    "        self.c = _c\n",
    "        self.rho = _rho\n",
    "        self.strength = _strength\n",
    "        self.num_terms =  _num_terms\n",
    "        self.num_modes = _num_modes\n",
    "        self.distance_off_center = _distance_off_center\n",
    "    def transfer(self, r, theta, z, w):\n",
    "        if self.distance_off_center == 0:\n",
    "            # in this case , result independent of theta\n",
    "            #z denote zeros of the functions J_n'(x)\n",
    "            n = 0\n",
    "            k = np.array(jnp_zeros(n,self.num_terms)/self.radius)\n",
    "            k_0 = w/self.c\n",
    "#             sqrt_vec = k*k\n",
    "            sqrt_vec = np.sqrt(k_0*k_0-k*k)\n",
    "            truncated_series =  np.exp(-1j*z*sqrt_vec)/sqrt_vec*jn(n, k*r)/(jn(n, k*self.radius)*jn(n, k*self.radius))\n",
    "            transfer_function = np.sum(truncated_series)\n",
    "            return transfer_function\n",
    "             \n",
    "        else:\n",
    "            print(f\"The code is not available for off-center ponint souce\")\n",
    "            \n",
    "    def displacement_response(self, r, theta, z, eta = 0):\n",
    "        N = len(self.strength)//2 + 1\n",
    "        w = 2*np.pi/self.T*np.arange(len(self.strength)) - 1j*eta\n",
    "        displacement = np.zeros(N, dtype=complex)\n",
    "        for i in range(N):\n",
    "            displacement[i] = 1j/(2*np.pi*self.radius*self.radius)*self.transfer(r, theta, z, w[i])*self.strength[i]\n",
    "        conj_displacement = np.conjugate(displacement[1:-1])[::-1]\n",
    "        displacement = np.append(displacement, conj_displacement)\n",
    "        return displacement\n",
    "    def pressure_response(self, r, theta, z, eta = 0):\n",
    "        N = len(self.strength)//2 + 1\n",
    "        w = 2*np.pi/self.T*np.arange(len(self.strength)) - 1j*eta\n",
    "        pressure = np.zeros(N, dtype=complex)\n",
    "        for i in range(N):\n",
    "            pressure[i] = self.rho/(self.c*self.radius*self.radius)*w[i]*self.transfer(r, theta, z, w[i])*self.strength[i]\n",
    "        conj_pressure = np.conjugate(pressure[1:-1])[::-1]\n",
    "        pressure = np.append(pressure, conj_pressure)\n",
    "        return pressure\n",
    "'''\n",
    "description: Solver of Simplified Model\n",
    "param {*} T: Time range of original singal \n",
    "param {*} fs: Sample rate\n",
    "param {*} h: The hegiht of pulse\n",
    "param {*} m: A para to calculate shifting para eta\n",
    "param {*} R: The radius of pipe\n",
    "param {*} c: The sound speed in fliud(water)\n",
    "param {*} rho: The density of fliud\n",
    "param {*} _num_terms: The number of terms of truncated Bessel series\n",
    "param {*} r: The radius distance of the point we choose \n",
    "param {*} z: The axis distance of the point we choose\n",
    "param {*} time_domain: The time range we want to calculate, recommended integer times of T \n",
    "return {*}: displacement in TD; pressure in TD; displacement in FD; pressure in FD; discreted time series of [0,time_domain]\n",
    "'''\n",
    "def Solver(T, fs, h, m, R, c ,rho, _num_terms, r, z, time_domain):\n",
    "    pulse_T = Signal(T, fs)\n",
    "    pulse_T.pulse(h)\n",
    "    #    EWM\n",
    "    _delta_frequency =  1/T\n",
    "    ewm = EWM(_delta_frequency)\n",
    "    ewm.set_eta(m)\n",
    "    # forcing function after FEW\n",
    "    pulse_T.signal_TD = ewm.falling_exp_window(pulse_T.signal_TD, pulse_T.time_series)\n",
    "    #add zero\n",
    "    N = 2*int(time_domain*fs/2)\n",
    "    time_series = 1/fs*np.arange(N)\n",
    "    pulse_T.add_zero(N)\n",
    "    #    FFT add\n",
    "    _strength = np.fft.fft(pulse_T.signal_TD)\n",
    "    #  calculate response\n",
    "    simplemodel = SimplifiedModel(time_domain, R, c, rho, _strength, _num_terms)\n",
    "    theta = 0\n",
    "    displacement_response = simplemodel.displacement_response(r, theta, z, ewm.eta)\n",
    "    pressure_response = simplemodel.pressure_response(r, theta, z, ewm.eta)\n",
    "    #  IFFT\n",
    "    displacement = np.fft.ifft(displacement_response)\n",
    "    pressure = np.fft.ifft(pressure_response)\n",
    "    #  REW\n",
    "    displacement = ewm.rising_exp_window(displacement, time_series)\n",
    "    pressure = ewm.rising_exp_window(pressure, time_series)\n",
    "\n",
    "    return displacement, pressure, displacement_response, pressure_response, time_series"
   ]
  },
  {
   "cell_type": "code",
   "execution_count": 3,
   "id": "a6a31d65",
   "metadata": {
    "scrolled": false
   },
   "outputs": [],
   "source": [
    "# table of parameters\n",
    "T = 0.004    # pulse duration (s)\n",
    "fs = 10000   # sample rate of pulse (Hz)\n",
    "h = 1       # height of pulse\n",
    "m = 3.2      # parameter for EWM\n",
    "R = 1        # radius of pipe (m)\n",
    "c = 1.5      # speed of sound in fluid (km/s)\n",
    "_num_terms = 10  # terms of Bessel function at least 8\n",
    "rho = 1.0    # density of fluid\n",
    "z = 0.018     # axis distance from the source (km)\n",
    "r = 0.5      # radius distance from the source\n",
    "time_domain = 0.012 #the time domain we need, recommend integer times of T (s)\n",
    "# Call the Solver function\n",
    "displacement, pressure, displacement_response, pressure_response, t = Solver(T, fs, h, m, R, c ,rho, _num_terms, r, z, time_domain)"
   ]
  },
  {
   "cell_type": "code",
   "execution_count": 4,
   "metadata": {},
   "outputs": [
    {
     "name": "stderr",
     "output_type": "stream",
     "text": [
      "d:\\Anaconda\\lib\\site-packages\\matplotlib\\cbook\\__init__.py:1298: ComplexWarning: Casting complex values to real discards the imaginary part\n",
      "  return np.asarray(x, float)\n",
      "d:\\Anaconda\\lib\\site-packages\\matplotlib\\cbook\\__init__.py:1298: ComplexWarning: Casting complex values to real discards the imaginary part\n",
      "  return np.asarray(x, float)\n"
     ]
    },
    {
     "data": {
      "text/plain": [
       "Text(0.5, 1.0, 'pressure_FD')"
      ]
     },
     "execution_count": 4,
     "metadata": {},
     "output_type": "execute_result"
    },
    {
     "data": {
      "image/png": "[encoded data removed]",
      "text/plain": [
       "<Figure size 640x480 with 1 Axes>"
      ]
     },
     "metadata": {},
     "output_type": "display_data"
    },
    {
     "data": {
      "image/png": "[encoded data removed]",
      "text/plain": [
       "<Figure size 640x480 with 1 Axes>"
      ]
     },
     "metadata": {},
     "output_type": "display_data"
    }
   ],
   "source": [
    "plt.figure(1)\n",
    "plt.plot(t,pressure)\n",
    "plt.title('pressure_TD')\n",
    "plt.xlabel('time(s)')\n",
    "plt.figure(2)\n",
    "plt.plot(pressure_response)\n",
    "plt.title('pressure_FD')\n",
    "# plt.figure(2)\n",
    "# plt.plot(t,displacement)\n",
    "# plt.title('dislpacement')"
   ]
  },
  {
   "cell_type": "code",
   "execution_count": 5,
   "metadata": {},
   "outputs": [],
   "source": [
    "# pulse_T = Signal(T, fs)\n",
    "# pulse_T.pulse(h)\n",
    "# num_fft_mode  = 2**math.ceil(math.log(pulse_T.length,2))\n",
    "# pulse_T.add_zero(num_fft_mode)\n",
    "# #    EWM\n",
    "# _delta_frequency =  1/T\n",
    "# ewm = EWM(_delta_frequency)\n",
    "# ewm.set_eta(m)\n",
    "# # forcing function after FEW\n",
    "# strength_few = ewm.falling_exp_window(pulse_T.signal_TD, pulse_T.time_series)\n",
    "# #    FFT\n",
    "# _strength = np.fft.fft(strength_few)\n",
    "# # print(\"strength_FD\", _strength)\n",
    "# #  calculate response\n",
    "# simplemodel = SimplifiedModel(R, c, rho, _strength, _num_terms)\n",
    "# theta = 0\n",
    "# displacement_response = simplemodel.displacement_response(r, theta, z, ewm.eta)\n",
    "# pressure_response = simplemodel.pressure_response(r, theta, z, ewm.eta)\n",
    "# # print(\"pressure_response\", pressure_response)\n",
    "\n",
    "# #  IFFT\n",
    "# displacement = np.fft.ifft(displacement_response)\n",
    "# pressure = np.fft.ifft(pressure_response)\n",
    "# # print('pressure_TD',pressure)\n",
    "# #  REW\n",
    "# displacement = ewm.rising_exp_window(displacement, pulse_T.time_series)\n",
    "# pressure = ewm.rising_exp_window(pressure, pulse_T.time_series)\n",
    "# # displacement, pressure = Solver(T, fs, h, m, R, c ,rho, _num_terms, r, z)\n",
    "# t = pulse_T.time_series"
   ]
  }
 ],
 "metadata": {
  "kernelspec": {
   "display_name": "work",
   "language": "python",
   "name": "work"
  },
  "language_info": {
   "codemirror_mode": {
    "name": "ipython",
    "version": 3
   },
   "file_extension": ".py",
   "mimetype": "text/x-python",
   "name": "python",
   "nbconvert_exporter": "python",
   "pygments_lexer": "ipython3",
   "version": "3.9.18"
  }
 },
 "nbformat": 4,
 "nbformat_minor": 5
}
