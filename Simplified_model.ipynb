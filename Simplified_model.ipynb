{
 "cells": [
  {
   "cell_type": "code",
   "execution_count": null,
   "id": "5bf5a3de",
   "metadata": {},
   "outputs": [],
   "source": [
    "import numpy as np\n",
    "import math\n",
    "import matplotlib.pyplot as plt\n",
    "from scipy.special import jn,jnp_zeros"
   ]
  },
  {
   "cell_type": "code",
   "execution_count": 6,
   "id": "af10a9fd",
   "metadata": {},
   "outputs": [],
   "source": [
    "#define a pulse during [0,T], sample rate = fs, hight of time domain = h.\n",
    "# def pulse(T, fs, h = 1.0):\n",
    "#     length = int(T*fs)\n",
    "#     pulse_signal = h*np.ones(length)\n",
    "#     return pulse_signal\n",
    "class Signal:\n",
    "    def __init__(self, _T, _fs, _signal_TD = None):\n",
    "        self.T = _T\n",
    "        self.fs = _fs\n",
    "        self.length = self.T*self.fs\n",
    "        self.time_series = 1/self.fs*np.arange(int(self.T*self.fs)+1)\n",
    "        self.signal_TD = _signal_TD\n",
    "    def pulse(self, h = 1.0):\n",
    "        self.signal_TD = h*np.ones(int(self.T*self.fs)+1)\n",
    "#         return self.signal_TD\n",
    "    def add_zero(self, _N)\n",
    "        zero_length = _N - self.length\n",
    "        self.signal_TD = np.add(self.signal_TD,np.zeros(zero_length))\n",
    "\n",
    "\n",
    "\n",
    "class EWM:\n",
    "    def __init__(self, _delta_frequency):\n",
    "    # delta_frequency = fs/N = 1/T\n",
    "        self.delta_frequency = _delta_frequency\n",
    "    \n",
    "    def set_eta(self, m):\n",
    "        self.eta = math.log(10)*m*self.delta_frequency\n",
    "        \n",
    "    def falling_exp_window(self, vector, time_series):\n",
    "        exponential_time_series = np.exp(-self.eta*time_series)\n",
    "        return np.multiply(vector,exponential_time_series)\n",
    "    \n",
    "    def rising_exp_window(self, vector, time_series):\n",
    "        exponential_time_series = np.exp(self.eta*time_series)\n",
    "        return np.multiply(vector,exponential_time_series)\n",
    "    \n",
    "#     def FFT(self, signal_TD):\n",
    "#         signal_FD = np.fft.fft(signal_TD)\n",
    "#         return signal_FD\n",
    "    \n",
    "#     def IFFT(self, signal_FD):\n",
    "#         signal_TD = np.fft.ifft(signal_FD)\n",
    "#         return signal_TD\n",
    "    \n",
    "    \n",
    "class SimplifiedModel:\n",
    "    def __init__(self, _radius, _c, _rho, _strength, _num_terms, _num_modes = 0,  _distance_off_center = 0):\n",
    "        self.radius = _radius\n",
    "        # c denote speed of sound in fluid\n",
    "        self.c = _c\n",
    "        self.rho = _rho\n",
    "        self.strength = _strength\n",
    "        self.num_terms =  _num_terms\n",
    "        self.num_modes = _num_modes\n",
    "        self.distance_off_center = _distance_off_center\n",
    "    def transfer(self, r, theta, z, w):\n",
    "        if self.distance_off_center == 0:\n",
    "            # in this case , result independent of theta\n",
    "            #z denote zeros of the functions J_n'(x)\n",
    "            n = 0\n",
    "            k = np.array(jnp_zeros(n,self.num_terms)/self.radius)\n",
    "            k_0 = np.array(w/self.c).T\n",
    "#             sqrt_vec = k*k\n",
    "            sqrt_vec = np.sqrt(k_0*k_0-k*k)\n",
    "            truncated_series =  np.exp(-1j*z*sqrt_vec)/sqrt_vec*jn(n, k*r)/(jn(n, k*self.radius)*jn(n, k*self.radius))\n",
    "            transfer_function = np.sum(truncated_series)\n",
    "            return transfer_function\n",
    "             \n",
    "        else:\n",
    "            print(f\"The code is not available for off-center ponint souce\")\n",
    "    def displacement_response(self, r, theta, z, eta = 0):\n",
    "        N = len(self.strength) // 2\n",
    "        w = 2*np.pi/N*np.arange(N) - 1j*eta\n",
    "        displacement = np.zeros(N, dtype=complex)\n",
    "        for i in range(N):\n",
    "            displacement[i] = 1j/(2*np.pi*self.radius*self.radius)*self.transfer(r, theta, z, w[i])*self.strength[i]\n",
    "        return displacement\n",
    "    def pressure_response(self, r, theta, z, eta = 0):\n",
    "        N = len(self.strength) // 2\n",
    "        w = 2*np.pi/N*np.arange(N) - 1j*eta\n",
    "        pressure = np.zeros(N, dtype=complex)\n",
    "        for i in range(N):\n",
    "            pressure[i] = self.rho/(self.c*self.radius*self.radius)*w[i]*self.transfer(r, theta, z, w[i])*self.strength[i]\n",
    "        return pressure\n",
    "\n",
    "def Solver(T, fs, h, m, R, c ,rho, _num_terms, r, z):\n",
    "#   pulse signal\n",
    "    pulse_T = Signal(T, fs)\n",
    "    pulse_T.pulse(h)\n",
    "#    EWM\n",
    "    _delta_frequency =  1/T\n",
    "    ewm = EWM(_delta_frequency)\n",
    "    ewm.set_eta(m)\n",
    "# forcing function after FEW\n",
    "    strength_few = ewm.falling_exp_window(pulse_T.signal_TD, pulse_T.time_series)\n",
    "#    FFT\n",
    "    _strength = np.fft.fft(strength_few)\n",
    "\n",
    "#  calculate response\n",
    "    simplemodel = SimplifiedModel(R, c, rho, _strength, _num_terms)\n",
    "    theta = 0\n",
    "    displacement_response = simplemodel.displacement_response(r, theta, z, ewm.eta)\n",
    "    pressure_response = simplemodel.pressure_response(r, theta, z, ewm.eta)\n",
    "    \n",
    "#  IFFT\n",
    "    displacement = np.fft.ifft(displacement_response)\n",
    "    pressure = np.fft.ifft(pressure_response)\n",
    "    \n",
    "#  REW\n",
    "    displacement = ewm.rising_exp_window(displacement, pulse_T.time_series)\n",
    "    pressure = ewm.rising_exp_window(pressure, pulse_T.time_series)\n",
    "    \n",
    "    return displacement, pressure"
   ]
  },
  {
   "cell_type": "code",
   "execution_count": 21,
   "id": "a6a31d65",
   "metadata": {
    "scrolled": false
   },
   "outputs": [
    {
     "name": "stdout",
     "output_type": "stream",
     "text": [
      "[-0.00082766+1.37242318e-05j -0.00080273-1.25568687e-06j\n",
      " -0.00076209-7.45681067e-05j -0.00076843-4.37604289e-04j\n",
      " -0.00184847-2.23515012e-03j -0.0177064 -1.10255686e-02j]\n"
     ]
    },
    {
     "name": "stderr",
     "output_type": "stream",
     "text": [
      "d:\\Anaconda\\lib\\site-packages\\matplotlib\\cbook\\__init__.py:1298: ComplexWarning: Casting complex values to real discards the imaginary part\n",
      "  return np.asarray(x, float)\n"
     ]
    },
    {
     "data": {
      "image/png": "[encoded data removed]",
      "text/plain": [
       "<Figure size 640x480 with 1 Axes>"
      ]
     },
     "metadata": {},
     "output_type": "display_data"
    }
   ],
   "source": [
    "# test_pulse = Signal(0.005,1000)\n",
    "# test_pulse.pulse()\n",
    "# _strength = np.fft.fft(test_pulse.signal_TD)\n",
    "# print(test_pulse.time_series)\n",
    "# print(_strength)\n",
    "T = 0.005\n",
    "fs = 1000\n",
    "h = 10\n",
    "m = 3.5\n",
    "R = 1\n",
    "c = 1.5\n",
    "_num_terms = 10\n",
    "rho = 1.0\n",
    "z = 0.01\n",
    "r = 0.5\n",
    "pulse_T = Signal(T, fs)\n",
    "pulse_T.pulse(h)\n",
    "#    EWM\n",
    "_delta_frequency =  1/T\n",
    "ewm = EWM(_delta_frequency)\n",
    "ewm.set_eta(m)\n",
    "# forcing function after FEW\n",
    "strength_few = ewm.falling_exp_window(pulse_T.signal_TD, pulse_T.time_series)\n",
    "#    FFT\n",
    "_strength = np.fft.fft(strength_few)\n",
    "\n",
    "#  calculate response\n",
    "simplemodel = SimplifiedModel(R, c, rho, _strength, _num_terms)\n",
    "theta = 0\n",
    "displacement_response = simplemodel.displacement_response(r, theta, z, ewm.eta)\n",
    "pressure_response = simplemodel.pressure_response(r, theta, z, ewm.eta)\n",
    "\n",
    "#  IFFT\n",
    "displacement = np.fft.ifft(displacement_response)\n",
    "pressure = np.fft.ifft(pressure_response)\n",
    "\n",
    "#  REW\n",
    "displacement = ewm.rising_exp_window(displacement, pulse_T.time_series)\n",
    "pressure = ewm.rising_exp_window(pressure, pulse_T.time_series)\n",
    "# displacement, pressure = Solver(T, fs, h, m, R, c ,rho, _num_terms, r, z)\n",
    "plt.plot(pressure)\n",
    "print(pressure)"
   ]
  },
  {
   "cell_type": "code",
   "execution_count": 19,
   "id": "a5e210cd",
   "metadata": {},
   "outputs": [
    {
     "name": "stdout",
     "output_type": "stream",
     "text": [
      "[10.-0.j 10.+0.j 10.+0.j 10.+0.j 10.+0.j 10.+0.j]\n"
     ]
    }
   ],
   "source": [
    "#\n",
    "T = 0.005\n",
    "fs = 1000\n",
    "pulse_T = Signal(T, fs)\n",
    "pulse_T.pulse(h)\n",
    "# 定义一个共轭对称的复数向量\n",
    "signal = pulse_T.signal_TD\n",
    "\n",
    "# FFT 变换\n",
    "freq_domain_signal = np.fft.fft(signal)\n",
    "\n",
    "# 截取频域信号，假设只保留前一半频谱（正频率部分）\n",
    "# half_length = len(freq_domain_signal) // 2\n",
    "truncated_freq_domain_signal = freq_domain_signal\n",
    "# [:half_length]\n",
    "\n",
    "# 共轭处理\n",
    "conjugate_freq_domain_signal = np.conjugate(truncated_freq_domain_signal)\n",
    "\n",
    "# IFFT 变换\n",
    "time_domain_result = np.fft.ifft(conjugate_freq_domain_signal)\n",
    "print(time_domain_result)"
   ]
  },
  {
   "cell_type": "code",
   "execution_count": 20,
   "metadata": {},
   "outputs": [
    {
     "name": "stdout",
     "output_type": "stream",
     "text": [
      "[1.-2.j 1.+3.j]\n"
     ]
    }
   ],
   "source": [
    "a = np.array([1.0+2.0j,1.0-3.0j])\n",
    "b = np.conjugate(a)\n",
    "print(b)"
   ]
  }
 ],
 "metadata": {
  "kernelspec": {
   "display_name": "work",
   "language": "python",
   "name": "work"
  },
  "language_info": {
   "codemirror_mode": {
    "name": "ipython",
    "version": 3
   },
   "file_extension": ".py",
   "mimetype": "text/x-python",
   "name": "python",
   "nbconvert_exporter": "python",
   "pygments_lexer": "ipython3",
   "version": "3.9.18"
  }
 },
 "nbformat": 4,
 "nbformat_minor": 5
}
